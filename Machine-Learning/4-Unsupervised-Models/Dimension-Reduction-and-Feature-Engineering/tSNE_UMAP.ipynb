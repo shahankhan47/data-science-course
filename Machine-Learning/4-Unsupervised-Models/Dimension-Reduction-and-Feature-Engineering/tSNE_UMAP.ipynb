{
 "cells": [
  {
   "cell_type": "markdown",
   "metadata": {},
   "source": [
    "<p style=\"text-align:center\">\n",
    "    <a href=\"https://skills.network\" target=\"_blank\">\n",
    "    <img src=\"https://cf-courses-data.s3.us.cloud-object-storage.appdomain.cloud/assets/logos/SN_web_lightmode.png\" width=\"200\" alt=\"Skills Network Logo\">\n",
    "    </a>\n",
    "</p>\n",
    "\n",
    "\n",
    "# Lab: Comparing tSNE and UMAP Dimension Reduction Models\n",
    "Estimated time needed: **30** minutes\n",
    "    \n",
    "\n",
    "## Objectives\n",
    "\n",
    "After completing this lab you will be able to:\n",
    "\n",
    "* Apply tSNE and UMAP to feature space dimensionality reduction problems\n",
    "* Use PCA as a baseline comparison for evaluating tSNE and UMAP results\n",
    "\n"
   ]
  },
  {
   "cell_type": "markdown",
   "metadata": {},
   "source": [
    "## Introduction\n",
    "\n",
    "In this lab, you will explore how to implement two advanced dimensionality reduction algorithms, tSNE and UMAP, on synthetic data.\n",
    "You'll compare the results to the same dimension reduction using PCA.\n",
    "\n",
    "- You'll start by generating a synthetic dataset of blobs in a 3D feature space and visually explore the data in an interactive 3D plot. \n",
    "- Then, you'll use the three algorithms to project the blobs into two dimensions.\n",
    "  \n",
    "For illustrative purposes, you'll color the blobs so we can see what effect the dimension reduction algorithms have on them: how well they preserve structure, such as the separation between blobs and their relative density.\n"
   ]
  },
  {
   "cell_type": "code",
   "execution_count": null,
   "metadata": {},
   "outputs": [],
   "source": [
    "!pip install numpy==2.2.0\n",
    "!pip install pandas==2.2.3\n",
    "!pip install matplotlib==3.9.3!\n",
    "!pip install plotly==5.24.1\n",
    "!pip install umap-learn==0.5.7"
   ]
  },
  {
   "cell_type": "markdown",
   "metadata": {},
   "source": [
    "### Import the required libraries\n"
   ]
  },
  {
   "cell_type": "code",
   "execution_count": null,
   "metadata": {},
   "outputs": [],
   "source": [
    "import numpy as np\n",
    "import matplotlib.pyplot as plt\n",
    "import pandas as pd\n",
    "from sklearn.datasets import make_blobs\n",
    "from sklearn.preprocessing import StandardScaler\n",
    "\n",
    "import umap.umap_ as UMAP \n",
    "from sklearn.manifold import TSNE\n",
    "from sklearn.decomposition import PCA\n",
    "\n",
    "import plotly.express as px\n",
    "from sklearn.datasets import make_blobs"
   ]
  },
  {
   "cell_type": "markdown",
   "metadata": {},
   "source": [
    "### Generate synthetic data with four clusters in a 3D space\n"
   ]
  },
  {
   "cell_type": "code",
   "execution_count": null,
   "metadata": {},
   "outputs": [],
   "source": [
    "# CLuster centers:\n",
    "centers = [ [ 2, -6, -6],\n",
    "            [-1,  9,  4],\n",
    "            [-8,  7,  2],\n",
    "            [ 4,  7,  9] ]\n",
    "\n",
    "# Cluster standard deviations:\n",
    "cluster_std=[1,1,2,3.5]\n",
    "\n",
    "# Make the blobs and return the data and the blob labels\n",
    "X, labels_ = make_blobs(n_samples=500, centers=centers, n_features=3, cluster_std=cluster_std, random_state=42)"
   ]
  },
  {
   "cell_type": "markdown",
   "metadata": {},
   "source": [
    "### Display the data in an interactive Plotly 3D scatter plot\n"
   ]
  },
  {
   "cell_type": "code",
   "execution_count": null,
   "metadata": {},
   "outputs": [],
   "source": [
    "# Create a DataFrame for Plotly\n",
    "df = pd.DataFrame(X, columns=['X', 'Y', 'Z'])\n",
    "\n",
    "# Create interactive 3D scatter plot\n",
    "fig = px.scatter_3d(df, x='X', y='Y', z='Z', color=labels_.astype(str) ,  opacity=0.7,  color_discrete_sequence=px.colors.qualitative.G10, title=\"3D Scatter Plot of Four Blobs\")\n",
    "\n",
    "fig.update_traces(marker=dict(size=5, line=dict(width=1, color='black')), showlegend=False)\n",
    "fig.update_layout(coloraxis_showscale=False, width=1000, height=800)  # Remove color bar, resize plot\n",
    "\n",
    "fig.show()"
   ]
  },
  {
   "cell_type": "markdown",
   "metadata": {},
   "source": [
    "### Interact with the plot\n",
    "Go ahead and click on the icons at the top right of the plot to select zoom, rotate, and pan modes.\n",
    "\n",
    "Then use your mouse to interact with the plot. \n",
    "\n",
    "This is a great way to inspect 3D data as it's difficult to learn much from a static 3D plot.\n",
    "### Exercise 1. What can you say about the four blobs?\n"
   ]
  },
  {
   "cell_type": "markdown",
   "metadata": {},
   "source": [
    "<details><summary>Click here for some observations </summary>\n",
    "\n",
    "- The blobs have varying densities.\n",
    "- One blob is distinct from the others.\n",
    "- The two largest blobs are distinct from each other, but both have a bit of overlap with the other blob between them.\n",
    "\n",
    "</details>\n"
   ]
  },
  {
   "cell_type": "markdown",
   "metadata": {},
   "source": [
    "### Exercise 2. Standardize the data to prepare it for the three projection methods.\n"
   ]
  },
  {
   "cell_type": "code",
   "execution_count": null,
   "metadata": {},
   "outputs": [],
   "source": [
    "# Enter your code here:\n",
    "scaler = ...()\n",
    "X_scaled = scaler.fit_transform(....)"
   ]
  },
  {
   "cell_type": "markdown",
   "metadata": {},
   "source": [
    "<details><summary>Click here for the solution</summary>\n",
    "\n",
    "```python\n",
    "# Standardize the data \n",
    "scaler = StandardScaler()\n",
    "X_scaled = scaler.fit_transform(X)\n",
    "```\n"
   ]
  },
  {
   "cell_type": "markdown",
   "metadata": {},
   "source": [
    "### Apply t-SNE to reduce the dimensionality to 2D\n",
    "You'll set the perplexity to the default value of 30 here. The results vary quite a bit if you change the perplexity, so go ahead and experiment.\n"
   ]
  },
  {
   "cell_type": "code",
   "execution_count": null,
   "metadata": {},
   "outputs": [],
   "source": [
    "tsne = TSNE(n_components=2, random_state=42, perplexity=30, max_iter=1000)\n",
    "X_tsne = tsne.fit_transform(X_scaled)"
   ]
  },
  {
   "cell_type": "markdown",
   "metadata": {},
   "source": [
    "### Let's plot the 2D t-SNE result\n"
   ]
  },
  {
   "cell_type": "code",
   "execution_count": null,
   "metadata": {},
   "outputs": [],
   "source": [
    "fig = plt.figure(figsize=(8, 6))\n",
    "ax = fig.add_subplot(111)\n",
    "ax.scatter(X_tsne[:, 0], X_tsne[:, 1], c=labels_, cmap='viridis', s=50, alpha=0.7, edgecolor='k')\n",
    "ax.set_title(\"2D t-SNE Projection of 3D Data\")\n",
    "ax.set_xlabel(\"t-SNE Component 1\")\n",
    "ax.set_ylabel(\"t-SNE Component 2\")\n",
    "ax.set_xticks([])\n",
    "ax.set_yticks([])\n",
    "plt.show()"
   ]
  },
  {
   "cell_type": "markdown",
   "metadata": {},
   "source": [
    "### Exercise 3. What can you say about this t-SNE result?\n"
   ]
  },
  {
   "cell_type": "markdown",
   "metadata": {},
   "source": [
    "<details><summary>Click here for some observations</summary>\n",
    "\n",
    "- t-SNE projected the data into four distinct clusters, although the original data had some overlap between a few clusters.\n",
    "- You can see that some of the points ended up in the \"wrong\" cluster, although to be fair, t-SNE has no knowledge of which clusters the points actually belong to. \n",
    "- All the clusters have similar densities.\n",
    "- Two of the blobs are distinct from each other but \"gave up\" some of their points to the blob they originally had overlapped with.\n",
    "- A \"perfect\" result would not completely separate the overlaps between blobs.\n",
    "- Notice that the distance between the blobs is consistent with the degree to which they were originally separated.\n",
    "</details>\n"
   ]
  },
  {
   "cell_type": "markdown",
   "metadata": {},
   "source": [
    "## Compare UMAP and PCA dimensionality reduction to two dimensions\n"
   ]
  },
  {
   "cell_type": "code",
   "execution_count": null,
   "metadata": {},
   "outputs": [],
   "source": [
    "# Apply UMAP to reduce the dimensionality to 2D\n",
    "umap_model = UMAP.UMAP(n_components=2, random_state=42, min_dist=0.5, spread=1,n_jobs=1)\n",
    "\n",
    "X_umap = umap_model.fit_transform(X_scaled)\n",
    "\n",
    "# Plot the 2D UMAP projection result \n",
    "fig = plt.figure(figsize=(8, 6))\n",
    "ax = fig.add_subplot(111)\n",
    "ax.scatter(X_umap[:, 0], X_umap[:, 1], c=labels_, cmap='viridis', s=50, alpha=0.7, edgecolor='k')\n",
    "\n",
    "ax.set_title(\"2D UMAP Projection of 3D Data\")\n",
    "ax.set_xlabel(\"UMAP Component 1\", )\n",
    "ax.set_ylabel(\"UMAP Component 2\", )\n",
    "ax.set_xticks([])\n",
    "ax.set_yticks([])\n",
    "plt.show()\n"
   ]
  },
  {
   "cell_type": "markdown",
   "metadata": {},
   "source": [
    "### Exercise 4. What can you say about this UMAP result?\n"
   ]
  },
  {
   "cell_type": "markdown",
   "metadata": {},
   "source": [
    "<details><summary>Click here for some observations</summary>\n",
    "\n",
    "- UMAP correctly projected the data into four partially distinct clusters, with one cluster completely distinct from the others.\n",
    "- Unlike t-SNE, it has preserved the connectedness that the original data had with the partially overlapping clusters.\n",
    "- You can see that, like t-SNE, some of the points ended up in the \"wrong\" cluster.\n",
    "- Again, like t-SNE, all the clusters have similar densities.\n",
    "- A \"perfect\" result would not completely separate the overlaps between blobs, because they actually do overlap in the original feature space.\n",
    "- The distance between the clusters is again consistent with the degree to which they were originally separated.\n",
    "</details>\n",
    "\n"
   ]
  },
  {
   "cell_type": "code",
   "execution_count": null,
   "metadata": {},
   "outputs": [],
   "source": [
    "# Apply PCA to reduce the dimensionality to 2D\n",
    "pca = PCA(n_components=2)\n",
    "X_pca = pca.fit_transform(X_scaled)\n",
    "\n",
    "\n",
    "fig = plt.figure(figsize=(8, 6))\n",
    "\n",
    "# Plot the 2D PCA result (right)\n",
    "ax2 = fig.add_subplot(111)\n",
    "scatter2 = ax2.scatter(X_pca[:, 0], X_pca[:, 1], c=labels_, cmap='viridis', s=50, alpha=0.7, edgecolor='k')\n",
    "ax2.set_title(\"2D PCA Projection of 3-D Data\")\n",
    "ax2.set_xlabel(\"PCA 1\")\n",
    "ax2.set_ylabel(\"PCA 2\")\n",
    "ax2.set_xticks([])\n",
    "ax2.set_yticks([])\n",
    "plt.show()"
   ]
  },
  {
   "cell_type": "markdown",
   "metadata": {},
   "source": [
    "### Exercise 5. What can you say about this PCA result?\n"
   ]
  },
  {
   "cell_type": "markdown",
   "metadata": {},
   "source": [
    "<details><summary>Click here for some observations</summary>\n",
    "\n",
    "- PCA faithfully preserved the relative blob densities.\n",
    "- PCA also preserved the relative separation between blobs.\n",
    "- The distance between the clusters is very consistent with the degree to which they were originally separated.\n",
    "- PCA and t-SNE took very little time to complete compared to UMAP.\n",
    "- IMNSHO, PCA outperformed both t-SNE and UMAP in this experiment.\n",
    "This points to a common tendency to want to implement more advanced algorithms.\n",
    "The default result is not always an improvement over the simpler established methods.\n",
    "\n",
    "</details>\n",
    "\n",
    "\n"
   ]
  },
  {
   "cell_type": "markdown",
   "metadata": {},
   "source": [
    "### Congratulations! You're ready to move on to your next lesson!\n",
    "\n",
    "\n",
    "## Author\n",
    "\n",
    "<a href=\"https://www.linkedin.com/in/jpgrossman/\" target=\"_blank\">Jeff Grossman</a>\n",
    "\n",
    "### Other Contributors\n",
    "<a href=\"https://www.linkedin.com/in/abhishek-gagneja-23051987/\" target=\"_blank\">Abhishek Gagneja</a>\n",
    "\n",
    "\n",
    "\n",
    "<!-- ## Changelog\n",
    "\n",
    "| Date | Version | Changed by | Change Description |\n",
    "|:------------|:------|:------------------|:---------------------------------------|\n",
    "| 2024-11-05 | 1.0  | Jeff Grossman    | Create content | -->\n",
    "\n",
    "\n",
    "\n",
    "## <h3 align=\"center\"> © IBM Corporation. All rights reserved. <h3/>\n"
   ]
  },
  {
   "cell_type": "code",
   "execution_count": null,
   "metadata": {},
   "outputs": [],
   "source": []
  }
 ],
 "metadata": {
  "kernelspec": {
   "display_name": "Python 3 (ipykernel)",
   "language": "python",
   "name": "python3"
  },
  "language_info": {
   "codemirror_mode": {
    "name": "ipython",
    "version": 3
   },
   "file_extension": ".py",
   "mimetype": "text/x-python",
   "name": "python",
   "nbconvert_exporter": "python",
   "pygments_lexer": "ipython3",
   "version": "3.12.8"
  },
  "prev_pub_hash": "d598576cbd1521100516a4f7fd2e9842c7a94870db632f0cc6259e526f93d246"
 },
 "nbformat": 4,
 "nbformat_minor": 4
}
